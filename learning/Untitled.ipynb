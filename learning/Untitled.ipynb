{
 "cells": [
  {
   "cell_type": "code",
   "execution_count": 1,
   "id": "ae99fd82",
   "metadata": {},
   "outputs": [],
   "source": [
    "import torch\n",
    "import numpy\n",
    "import matplotlib.pyplot as plt\n",
    "import bionetwork\n",
    "import plotting\n",
    "import pandas\n",
    "import time\n",
    "import copy\n",
    "import argparse\n",
    "import activationFunctions\n",
    "from scipy import stats\n",
    "from sklearn.preprocessing import StandardScaler\n",
    "# import logging\n",
    "\n",
    "# logging.basicConfig(level=logging.INFO, format='%(message)s')\n",
    "# logger = logging.getLogger()\n",
    "# print2log = logger.info\n",
    "#\n",
    "# parser = argparse.ArgumentParser(prog='KDs simulation')\n",
    "# parser.add_argument('--leaveIn', action='store', default=None)\n",
    "# args = parser.parse_args()\n",
    "# curentId = int(args.leaveIn)\n",
    "curentId = 0"
   ]
  },
  {
   "cell_type": "code",
   "execution_count": 2,
   "id": "e9c1b1da",
   "metadata": {},
   "outputs": [],
   "source": [
    "# Probably large enough batches to use batch level regularization\n",
    "def uniformLoss(data, targetMin = 0, targetMax = 0.99, maxConstraintFactor = 1):\n",
    "    targetMean = (targetMax-targetMin)/2\n",
    "    targetVar= (targetMax-targetMin)**2/12\n",
    "\n",
    "    nodeMean = torch.mean(data, dim=0)\n",
    "    nodeVar = torch.mean(torch.square(data-nodeMean), dim=0)\n",
    "    maxVal, _ = torch.max(data, dim=0)\n",
    "    minVal, _ = torch.min(data, dim=0)\n",
    "\n",
    "    meanLoss = torch.sum(torch.square(nodeMean - targetMean))\n",
    "    varLoss =  torch.sum(torch.square(nodeVar - targetVar))\n",
    "    maxLoss = torch.sum(torch.square(maxVal - targetMax))\n",
    "    minloss = torch.sum(torch.square(minVal- targetMin))\n",
    "    maxConstraint = -maxConstraintFactor * torch.sum(maxVal[maxVal.detach()<=0]) #max value should never be negative\n",
    "\n",
    "    loss = meanLoss + varLoss + minloss + maxLoss + maxConstraint\n",
    "    return loss\n",
    "\n",
    "# def uniformLoss(curState, dataIndex, YhatFull, targetMin = 0, targetMax = 0.99, maxConstraintFactor = 10):\n",
    "#     data = curState.detach().clone()\n",
    "#     data[dataIndex, :] = YhatFull\n",
    "#\n",
    "#     targetMean = (targetMax-targetMin)/2\n",
    "#     targetVar= (targetMax-targetMin)**2/12\n",
    "#\n",
    "#     factor = 1\n",
    "#     meanFactor = factor\n",
    "#     varFactor = factor\n",
    "#     minFactor = factor\n",
    "#     maxFactor = factor\n",
    "#     maxConstraintFactor = factor * maxConstraintFactor\n",
    "#\n",
    "#     nodeMean = torch.mean(data, dim=0)\n",
    "#     nodeVar = torch.mean(torch.square(data-nodeMean), dim=0)\n",
    "#     maxVal, _ = torch.max(data, dim=0)\n",
    "#     minVal, _ = torch.min(data, dim=0)\n",
    "#\n",
    "#     meanLoss = meanFactor * torch.sum(torch.square(nodeMean - targetMean))\n",
    "#     varLoss =  varFactor * torch.sum(torch.square(nodeVar - targetVar))\n",
    "#     maxLoss = maxFactor * torch.sum(torch.square(maxVal - targetMax))\n",
    "#     minloss = minFactor * torch.sum(torch.square(minVal- targetMin))\n",
    "#     maxConstraint = -maxConstraintFactor * torch.sum(maxVal[maxVal.detach()<=0]) #max value should never be negative\n",
    "#\n",
    "#     loss = meanLoss + varLoss + minloss + maxLoss + maxConstraint\n",
    "#     return loss\n"
   ]
  },
  {
   "cell_type": "code",
   "execution_count": 3,
   "id": "b4c2ebb0",
   "metadata": {},
   "outputs": [],
   "source": [
    "class cellLayer(torch.nn.Module):\n",
    "    def __init__(self, numberOfGenes):\n",
    "        super(cellLayer, self).__init__()\n",
    "\n",
    "        weights = torch.ones(numberOfGenes, requires_grad=True, dtype=torch.double)\n",
    "        weights.data = 1e-3 * weights.data\n",
    "        bias = torch.zeros(numberOfGenes, requires_grad=True, dtype=torch.double)\n",
    "        self.weights = torch.nn.Parameter(weights)\n",
    "        self.bias = torch.nn.Parameter(bias)\n",
    "\n",
    "    def forward(self, dataCell):\n",
    "        cellIn = dataCell * self.weights + self.bias\n",
    "\n",
    "        # leaky cutoff, corresponds to leaky relu but in the oposit direction\n",
    "        cellInFilter = cellIn.detach() > 0\n",
    "        cellIn[cellInFilter] = 0.01 * cellIn[cellInFilter]\n",
    "        return cellIn\n",
    "\n",
    "    def signRegularization(self, MoAFactor):\n",
    "        weightFilter = self.weights.detach() < 0\n",
    "        return MoAFactor * torch.sum(torch.abs(self.weights[weightFilter]))\n",
    "\n",
    "    def L2Regularization(self, L2):\n",
    "        L2weight = torch.sum(torch.square(self.weights))\n",
    "        L2bias = torch.sum(torch.square(self.bias))\n",
    "        return L2 * (L2weight + L2bias)\n",
    "\n",
    "class fullModel(torch.nn.Module):\n",
    "    def __init__(self, nodeNames, inNames, outName, networkList, modeOfAction, inputAmplitude,projectionAmplitude):\n",
    "        super(fullModel, self).__init__()\n",
    "\n",
    "        bionetParams = bionetwork.trainingParameters(iterations=100, clipping=1, targetPrecision=1e-6, leak=0.01)\n",
    "        self.projectAmplitude = projectionAmplitude\n",
    "\n",
    "        self.cellModel = cellLayer(len(nodeNames))\n",
    "        self.inputLayer = bionetwork.projectInput(nodeNames, inNames, inputAmplitude, torch.double)\n",
    "        self.signalingModel = bionetwork.bionet(networkList, len(nodeNames), modeOfAction, bionetParams, 'MML',\n",
    "                                                torch.double)\n",
    "        self.projectModel = bionetwork.projectOutput(nodeNames, outName, projectionAmplitude, torch.double)\n",
    "        #self.bn = torch.nn.BatchNorm1d(len(outName), momentum=0.25,dtype=torch.double)\n",
    "\n",
    "    def forward(self, dataIn, dataCell, noiseLevel=0):\n",
    "        Yin = self.inputLayer(dataIn) + self.cellModel(dataCell)\n",
    "        Yin = Yin + noiseLevel * torch.randn(Yin.shape)\n",
    "        YhatFull = self.signalingModel(Yin)\n",
    "        Yhat = self.projectModel(YhatFull)\n",
    "        #Yhat = self.bn(Yhat)\n",
    "\n",
    "        return Yhat, YhatFull\n",
    "\n",
    "    def L2Regularization(self, L2, lbRegularization=0.001):\n",
    "        cellL2 = self.cellModel.L2Regularization(L2)\n",
    "\n",
    "        # Signaling model L2\n",
    "        absFilter = torch.abs(self.signalingModel.weights.detach()) > lbRegularization\n",
    "        weightLoss = L2 * torch.sum(torch.square(self.signalingModel.weights[absFilter.detach()]))\n",
    "        biasLoss = L2 * torch.sum(torch.square(self.signalingModel.bias))\n",
    "\n",
    "        #projectOutputL2 = L2 * torch.sum(torch.square(self.projectionLayer.weights - self.projectAmplitude))\n",
    "        projectOutputL2 = L2 * torch.sum(torch.square(self.projectModel.weights))\n",
    "\n",
    "        L2Loss = weightLoss + biasLoss + cellL2 + projectOutputL2\n",
    "        return L2Loss\n",
    "\n",
    "    def signRegularization(self, MoAFactor):\n",
    "        cellSign = self.cellModel.signRegularization(MoAFactor)\n",
    "        signalingSign = self.signalingModel.signRegularization(MoAFactor)\n",
    "        signConstraints = cellSign + signalingSign\n",
    "        return signConstraints\n"
   ]
  },
  {
   "cell_type": "code",
   "execution_count": 4,
   "id": "664466ea",
   "metadata": {},
   "outputs": [],
   "source": [
    "inputAmplitude = 1.0\n",
    "projectionAmplitude = 0.1\n",
    "\n",
    "# Load network\n",
    "networkList, nodeNames, modeOfAction = bionetwork.loadNetwork('../preprocessing/preprocessed_data/macrophageL1000_Ligands-Model.tsv')\n",
    "\n",
    "# Load input output data\n",
    "#Load samples\n",
    "train_samples = pandas.read_csv('../data/10fold_cross_validation/LigandPKN_old//train_sample_' + str(curentId) + '.csv', low_memory=False,index_col=0)\n",
    "train_samples = train_samples.sample(frac=1).reset_index(drop=True)\n",
    "#Load TFs\n",
    "TFsData = pandas.read_csv('../results/trimmed_shrnas_tf_activities_ligandpkn_old.tsv',sep='\\t', low_memory=False,index_col=0)\n",
    "trainTFs = TFsData.loc[train_samples.sig_id.values,:]\n",
    "outName = list(trainTFs.columns)\n",
    "#Load KDs\n",
    "allKds = pandas.read_csv('../preprocessing/preprocessed_data/all_filtered_Kds_ligandpkn_old.tsv',sep='\\t', low_memory=False,index_col=0)\n",
    "allKds = allKds.set_index('sig_id')\n",
    "inName = list(allKds.columns)\n",
    "trainKds = allKds.loc[train_samples.sig_id.values,:]\n",
    "allLigands = pandas.read_csv('../results/Ligands_conditions_old.tsv',sep='\\t', low_memory=False,index_col=0)\n",
    "inName_original = list(allLigands.columns)\n",
    "#Load cell line data\n",
    "cellLineMember = pandas.read_csv('../preprocessing/preprocessed_data/all_filtered_cells_ligandpkn_old.tsv', sep='\\t', low_memory=False, index_col=0)\n",
    "cellLineMember = cellLineMember.set_index('sig_id')\n",
    "TrainCellLineMember = cellLineMember.loc[train_samples.sig_id.values,:]\n",
    "cellLineLevels = pandas.read_csv('../data/CCLE/trimmed_ccle_ligandpkn_old.tsv', sep='\\t', low_memory=False, index_col=0)\n",
    "cellLineLevels = cellLineLevels.loc[cellLineMember.columns,:]\n",
    "# scaler = StandardScaler()\n",
    "# cellLineLevels_scaled = pandas.DataFrame(scaler.fit_transform(cellLineLevels))\n",
    "# cellLineLevels_scaled.index = cellLineLevels.index\n",
    "# cellLineLevels_scaled.columns = cellLineLevels.columns\n",
    "# cellLineLevels_scaled = cellLineLevels_scaled.T\n",
    "cellLineLevels_scaled = cellLineLevels.T\n",
    "missingValues = numpy.setdiff1d(nodeNames, cellLineLevels_scaled.index.values)\n",
    "#Zero padding:\n",
    "df = pandas.DataFrame(numpy.zeros((len(missingValues), cellLineLevels_scaled.shape[1])), index=missingValues, columns=cellLineLevels_scaled.columns)\n",
    "cellLineLevels_scaled = cellLineLevels_scaled.append(df)\n",
    "cellLineLevels_scaled = cellLineLevels_scaled.loc[nodeNames,:]\n",
    "#cellLineLevels_scaled = cellLineLevels_scaled/cellLineLevels_scaled.max() # scale between zero and one\n",
    "geneData = cellLineLevels_scaled.values.dot(TrainCellLineMember.values.T).T"
   ]
  },
  {
   "cell_type": "code",
   "execution_count": 5,
   "id": "cba8cac6",
   "metadata": {},
   "outputs": [],
   "source": [
    "#model = torch.load('../preprocessing/preprocessed_data/old_uniform_loss_bs24ep6000_ligands_allcells.pt')"
   ]
  },
  {
   "cell_type": "code",
   "execution_count": 12,
   "id": "020c8e08",
   "metadata": {},
   "outputs": [
    {
     "data": {
      "text/plain": [
       "torch.Size([181])"
      ]
     },
     "execution_count": 12,
     "metadata": {},
     "output_type": "execute_result"
    }
   ],
   "source": [
    "#model.inputLayer.weights.shape"
   ]
  },
  {
   "cell_type": "code",
   "execution_count": 6,
   "id": "557addc9",
   "metadata": {},
   "outputs": [],
   "source": [
    "# torch.save(model.state_dict(),'../preprocessing/preprocessed_data/ligands_states_L100.pt')"
   ]
  },
  {
   "cell_type": "code",
   "execution_count": 5,
   "id": "b68a6eee",
   "metadata": {},
   "outputs": [],
   "source": [
    "criterion = torch.nn.MSELoss()\n",
    "\n",
    "sampleName = trainKds.index.values\n",
    "X = torch.tensor(trainKds.values, dtype=torch.double)\n",
    "Xcell = torch.tensor(geneData, dtype=torch.double)\n",
    "Y = torch.tensor(trainTFs.values.copy(), dtype=torch.double)\n",
    "N = X.shape[0]"
   ]
  },
  {
   "cell_type": "code",
   "execution_count": 6,
   "id": "6a4889b5",
   "metadata": {},
   "outputs": [],
   "source": [
    "model = fullModel(nodeNames, inName_original, outName, networkList, modeOfAction, inputAmplitude, projectionAmplitude)\n",
    "model.signalingModel.preScaleWeights()\n",
    "model.inputLayer.weights.requires_grad = False\n",
    "#model.projectionLayer.weights.requires_grad = False\n",
    "#model.signalingModel.bias.data[numpy.isin(nodeNames, outName)] = 0.5 # put all TFs in 0.5 to begin"
   ]
  },
  {
   "cell_type": "code",
   "execution_count": 7,
   "id": "3889805e",
   "metadata": {},
   "outputs": [],
   "source": [
    "model_ligand_states = torch.load('../preprocessing/preprocessed_data/ligands_states_L100.pt')\n",
    "model.load_state_dict(model_ligand_states)\n",
    "# model.signalingModel.weights = torch.nn.Parameter(model_ligand_states['signalingModel.weights'])\n",
    "# model.signalingModel.bias = torch.nn.Parameter(model_ligand_states['signalingModel.bias'])\n",
    "# model.projectionLayer.weights = torch.nn.Parameter(model_ligand_states['projectModel.weights'])\n",
    "# model.signalingModel.A.data = model.signalingModel.weights\n",
    "# model.cellModel.weights = torch.nn.Parameter(model_ligand_states['cellModel.bias'])\n",
    "# model.cellModel.bias.data = torch.nn.Parameter(model_ligand_states['cellModel.weights'])\n",
    "# model.inputLayer.weights = torch.nn.Parameter(model_ligand_states['inputLayer.weights'])\n",
    "model.inputLayer.weights.requires_grad = False"
   ]
  },
  {
   "cell_type": "code",
   "execution_count": 8,
   "id": "05a95b3e",
   "metadata": {},
   "outputs": [],
   "source": [
    "#Combine lingand and Kds data\n",
    "## Load celline ligand data\n",
    "TFsData_ligands = pandas.read_csv('../results/trimmed_ligands_old_tf_activities.tsv',sep='\\t', low_memory=False,index_col=0)\n",
    "cellLineMember = pandas.read_csv('../preprocessing/preprocessed_data/all_filtered_cells_ligand_old.tsv', sep='\\t', low_memory=False, index_col=0)\n",
    "cellLineMember = cellLineMember.set_index('sig_id')\n",
    "TrainCellLineMember = cellLineMember.loc[allLigands.index.values,:]\n",
    "cellLineLevels = pandas.read_csv('../data/CCLE/trimmed_ccle_ligands_old.tsv', sep='\\t', low_memory=False, index_col=0)\n",
    "cellLineLevels = cellLineLevels.loc[cellLineMember.columns,:]\n",
    "cellLineLevels_scaled = cellLineLevels.T\n",
    "missingValues = numpy.setdiff1d(nodeNames, cellLineLevels_scaled.index.values)\n",
    "#Zero padding:\n",
    "df = pandas.DataFrame(numpy.zeros((len(missingValues), cellLineLevels_scaled.shape[1])), index=missingValues, columns=cellLineLevels_scaled.columns)\n",
    "cellLineLevels_scaled = cellLineLevels_scaled.append(df)\n",
    "cellLineLevels_scaled = cellLineLevels_scaled.loc[nodeNames,:]\n",
    "geneData_ligands = cellLineLevels_scaled.values.dot(TrainCellLineMember.values.T).T\n",
    "\n",
    "# Combine inNames\n",
    "allInNames = numpy.unique(numpy.union1d(inName,inName_original))\n",
    "\n",
    "missingValuesLigands = numpy.setdiff1d(allInNames,inName_original)\n",
    "df = pandas.DataFrame(numpy.zeros((len(missingValuesLigands), allLigands.shape[0])), index=missingValuesLigands, columns=allLigands.index)\n",
    "df = df.transpose()\n",
    "allLigands = pandas.concat((allLigands,df),axis=1)\n",
    "allLigands = allLigands.loc[:,allInNames]\n",
    "\n",
    "missingValuesKds = numpy.setdiff1d(allInNames,inName)\n",
    "df = pandas.DataFrame(numpy.zeros((len(missingValuesKds), trainKds.shape[0])), index=missingValuesKds, columns=trainKds.index)\n",
    "df = df.transpose()\n",
    "trainKds = pandas.concat((trainKds,df),axis=1)\n",
    "trainKds = trainKds.loc[:,allInNames]"
   ]
  },
  {
   "cell_type": "code",
   "execution_count": 9,
   "id": "2c2a9e0d",
   "metadata": {},
   "outputs": [],
   "source": [
    "# Change input layer node order\n",
    "dictionary = dict(zip(nodeNames, list(range(len(nodeNames)))))\n",
    "model.inputLayer.nodeOrder = numpy.array([dictionary[x] for x in allInNames])\n",
    "weights = 1.0 * torch.ones(len(allInNames), dtype=torch.double)\n",
    "model.inputLayer.weights.data = weights\n",
    "model.inputLayer.weights.requires_grad = False"
   ]
  },
  {
   "cell_type": "code",
   "execution_count": 10,
   "id": "275e2031",
   "metadata": {},
   "outputs": [
    {
     "data": {
      "text/plain": [
       "2875"
      ]
     },
     "execution_count": 10,
     "metadata": {},
     "output_type": "execute_result"
    }
   ],
   "source": [
    "len(nodeNames)"
   ]
  },
  {
   "cell_type": "code",
   "execution_count": 11,
   "id": "137b1e50",
   "metadata": {},
   "outputs": [],
   "source": [
    "sampleName = allLigands.index.values\n",
    "X = torch.tensor(allLigands.values, dtype=torch.double)\n",
    "Xcell = torch.tensor(geneData_ligands, dtype=torch.double)\n",
    "Y = torch.tensor(TFsData_ligands.values.copy(), dtype=torch.double)\n",
    "N = X.shape[0]"
   ]
  },
  {
   "cell_type": "code",
   "execution_count": 12,
   "id": "7afbffc4",
   "metadata": {},
   "outputs": [
    {
     "data": {
      "text/plain": [
       "torch.Size([310, 740])"
      ]
     },
     "execution_count": 12,
     "metadata": {},
     "output_type": "execute_result"
    }
   ],
   "source": [
    "X.shape"
   ]
  },
  {
   "cell_type": "code",
   "execution_count": 13,
   "id": "7bba80b7",
   "metadata": {},
   "outputs": [],
   "source": [
    "model.eval()\n",
    "Yhat, YhatFull = model(X,Xcell,0)"
   ]
  },
  {
   "cell_type": "code",
   "execution_count": 14,
   "id": "e587d5e9",
   "metadata": {},
   "outputs": [
    {
     "data": {
      "text/plain": [
       "[<matplotlib.axis.YTick at 0x1d8bc3a76a0>,\n",
       " <matplotlib.axis.YTick at 0x1d8bc353eb0>,\n",
       " <matplotlib.axis.YTick at 0x1d8bc353160>]"
      ]
     },
     "execution_count": 14,
     "metadata": {},
     "output_type": "execute_result"
    },
    {
     "data": {
      "image/png": "[encoded data removed]",
      "text/plain": [
       "<Figure size 432x288 with 1 Axes>"
      ]
     },
     "metadata": {
      "needs_background": "light"
     },
     "output_type": "display_data"
    }
   ],
   "source": [
    "plt.figure()\n",
    "plt.scatter(Yhat.detach().numpy(), Y.detach().numpy(), alpha=0.2)\n",
    "plotting.lineOfIdentity()\n",
    "plotting.addCorrelation(Yhat, Y)\n",
    "plt.xlabel('Fit')\n",
    "plt.ylabel('Data')\n",
    "plt.gca().axis('equal')\n",
    "plt.gca().set_xticks([0, 0.5, 1])\n",
    "plt.gca().set_yticks([0, 0.5, 1])"
   ]
  },
  {
   "cell_type": "code",
   "execution_count": null,
   "id": "91be740f",
   "metadata": {},
   "outputs": [],
   "source": []
  }
 ],
 "metadata": {
  "kernelspec": {
   "display_name": "Python 3",
   "language": "python",
   "name": "python3"
  },
  "language_info": {
   "codemirror_mode": {
    "name": "ipython",
    "version": 3
   },
   "file_extension": ".py",
   "mimetype": "text/x-python",
   "name": "python",
   "nbconvert_exporter": "python",
   "pygments_lexer": "ipython3",
   "version": "3.8.8"
  }
 },
 "nbformat": 4,
 "nbformat_minor": 5
}
